{
  "cells": [
    {
      "cell_type": "markdown",
      "metadata": {
        "id": "P36mWXK2plIR"
      },
      "source": [
        "# Datalab: A unified audit to detect all kinds of issues in data and labels"
      ]
    },
    {
      "cell_type": "markdown",
      "metadata": {
        "id": "XIUZysMxplIS"
      },
      "source": [
        "Cleanlab offers a `Datalab` object that can identify various issues in your machine learning datasets, such as noisy labels, outliers, (near) duplicates, drift, and other types of problems common in real-world data. These data issues may negatively impact models if not addressed. `Datalab` utilizes *any* ML model you have already trained for your data to diagnose these issues, it only requires access to either: (probabilistic) predictions from your model or its learned representations of the data.\n",
        "\n",
        "\n",
        "**Overview of what we'll do in this tutorial:**\n",
        "\n",
        "- Compute out-of-sample predicted probabilities for a sample dataset using cross-validation.\n",
        "- Use `Datalab` to identify issues such as noisy labels, outliers, (near) duplicates, and other types of problems\n",
        "- View the issue summaries and other information about our sample dataset\n",
        "\n",
        "You can easily replace our demo dataset with your own image/text/tabular/audio/etc dataset, and then run the same code to discover what sort of issues lurk within it!"
      ]
    },
    {
      "cell_type": "markdown",
      "metadata": {
        "id": "hcpsNp-VplIT"
      },
      "source": [
        "<div class=\"alert alert-info\">\n",
        "Quickstart\n",
        "<br/>\n",
        "    \n",
        "Already have (out-of-sample) `pred_probs` from a model trained on an existing set of labels? Maybe you also have some numeric `features` (or model embeddings of data)? Run the code below to examine your dataset for multiple types of issues.\n",
        "\n",
        "<div  class=markdown markdown=\"1\" style=\"background:white;margin:16px\">  \n",
        "    \n",
        "```ipython3\n",
        "from cleanlab import Datalab\n",
        "\n",
        "lab = Datalab(data=your_dataset, label_name=\"column_name_of_labels\")\n",
        "lab.find_issues(features=your_feature_matrix, pred_probs=your_pred_probs)\n",
        "\n",
        "lab.report()\n",
        "```\n",
        "   \n",
        "</div>\n",
        "</div>"
      ]
    },
    {
      "cell_type": "markdown",
      "metadata": {
        "id": "TTcO8m36plIU"
      },
      "source": [
        "## 1. Install and import required dependencies"
      ]
    },
    {
      "cell_type": "markdown",
      "metadata": {
        "id": "4ZmPHvuwplIV"
      },
      "source": [
        "`Datalab` has additional dependencies that are not included in the standard installation of cleanlab.\n",
        "\n",
        "You can use pip to install all packages required for this tutorial as follows:\n",
        "\n",
        "```ipython3\n",
        "!pip install matplotlib\n",
        "!pip install \"cleanlab[datalab]\"\n",
        "\n",
        "# Make sure to install the version corresponding to this tutorial\n",
        "# E.g. if viewing master branch documentation:\n",
        "#     !pip install git+https://github.com/cleanlab/cleanlab.git\n",
        "```"
      ]
    },
    {
      "cell_type": "code",
      "execution_count": 1,
      "metadata": {
        "execution": {
          "iopub.execute_input": "2025-02-27T15:39:17.191775Z",
          "iopub.status.busy": "2025-02-27T15:39:17.191603Z",
          "iopub.status.idle": "2025-02-27T15:39:18.446791Z",
          "shell.execute_reply": "2025-02-27T15:39:18.446249Z"
        },
        "nbsphinx": "hidden",
        "id": "7o2x8eTBplIV",
        "outputId": "0b4f8bed-3645-4307-d6b5-f29616b6b5eb",
        "colab": {
          "base_uri": "https://localhost:8080/"
        }
      },
      "outputs": [
        {
          "output_type": "stream",
          "name": "stdout",
          "text": [
            "Requirement already satisfied: cleanlab==v2.7.1 in /usr/local/lib/python3.11/dist-packages (2.7.1)\n",
            "Requirement already satisfied: numpy~=1.22 in /usr/local/lib/python3.11/dist-packages (from cleanlab==v2.7.1) (1.26.4)\n",
            "Requirement already satisfied: scikit-learn>=1.1 in /usr/local/lib/python3.11/dist-packages (from cleanlab==v2.7.1) (1.6.1)\n",
            "Requirement already satisfied: tqdm>=4.53.0 in /usr/local/lib/python3.11/dist-packages (from cleanlab==v2.7.1) (4.67.1)\n",
            "Requirement already satisfied: pandas>=1.4.0 in /usr/local/lib/python3.11/dist-packages (from cleanlab==v2.7.1) (2.2.2)\n",
            "Requirement already satisfied: termcolor>=2.4.0 in /usr/local/lib/python3.11/dist-packages (from cleanlab==v2.7.1) (3.1.0)\n",
            "Requirement already satisfied: python-dateutil>=2.8.2 in /usr/local/lib/python3.11/dist-packages (from pandas>=1.4.0->cleanlab==v2.7.1) (2.9.0.post0)\n",
            "Requirement already satisfied: pytz>=2020.1 in /usr/local/lib/python3.11/dist-packages (from pandas>=1.4.0->cleanlab==v2.7.1) (2025.2)\n",
            "Requirement already satisfied: tzdata>=2022.7 in /usr/local/lib/python3.11/dist-packages (from pandas>=1.4.0->cleanlab==v2.7.1) (2025.2)\n",
            "Requirement already satisfied: scipy>=1.6.0 in /usr/local/lib/python3.11/dist-packages (from scikit-learn>=1.1->cleanlab==v2.7.1) (1.15.3)\n",
            "Requirement already satisfied: joblib>=1.2.0 in /usr/local/lib/python3.11/dist-packages (from scikit-learn>=1.1->cleanlab==v2.7.1) (1.5.1)\n",
            "Requirement already satisfied: threadpoolctl>=3.1.0 in /usr/local/lib/python3.11/dist-packages (from scikit-learn>=1.1->cleanlab==v2.7.1) (3.6.0)\n",
            "Requirement already satisfied: six>=1.5 in /usr/local/lib/python3.11/dist-packages (from python-dateutil>=2.8.2->pandas>=1.4.0->cleanlab==v2.7.1) (1.17.0)\n",
            "Requirement already satisfied: matplotlib in /usr/local/lib/python3.11/dist-packages (3.10.0)\n",
            "Requirement already satisfied: datasets in /usr/local/lib/python3.11/dist-packages (2.14.4)\n",
            "Requirement already satisfied: contourpy>=1.0.1 in /usr/local/lib/python3.11/dist-packages (from matplotlib) (1.3.2)\n",
            "Requirement already satisfied: cycler>=0.10 in /usr/local/lib/python3.11/dist-packages (from matplotlib) (0.12.1)\n",
            "Requirement already satisfied: fonttools>=4.22.0 in /usr/local/lib/python3.11/dist-packages (from matplotlib) (4.58.1)\n",
            "Requirement already satisfied: kiwisolver>=1.3.1 in /usr/local/lib/python3.11/dist-packages (from matplotlib) (1.4.8)\n",
            "Requirement already satisfied: numpy>=1.23 in /usr/local/lib/python3.11/dist-packages (from matplotlib) (1.26.4)\n",
            "Requirement already satisfied: packaging>=20.0 in /usr/local/lib/python3.11/dist-packages (from matplotlib) (24.2)\n",
            "Requirement already satisfied: pillow>=8 in /usr/local/lib/python3.11/dist-packages (from matplotlib) (11.2.1)\n",
            "Requirement already satisfied: pyparsing>=2.3.1 in /usr/local/lib/python3.11/dist-packages (from matplotlib) (3.2.3)\n",
            "Requirement already satisfied: python-dateutil>=2.7 in /usr/local/lib/python3.11/dist-packages (from matplotlib) (2.9.0.post0)\n",
            "Requirement already satisfied: pyarrow>=8.0.0 in /usr/local/lib/python3.11/dist-packages (from datasets) (18.1.0)\n",
            "Requirement already satisfied: dill<0.3.8,>=0.3.0 in /usr/local/lib/python3.11/dist-packages (from datasets) (0.3.7)\n",
            "Requirement already satisfied: pandas in /usr/local/lib/python3.11/dist-packages (from datasets) (2.2.2)\n",
            "Requirement already satisfied: requests>=2.19.0 in /usr/local/lib/python3.11/dist-packages (from datasets) (2.32.3)\n",
            "Requirement already satisfied: tqdm>=4.62.1 in /usr/local/lib/python3.11/dist-packages (from datasets) (4.67.1)\n",
            "Requirement already satisfied: xxhash in /usr/local/lib/python3.11/dist-packages (from datasets) (3.5.0)\n",
            "Requirement already satisfied: multiprocess in /usr/local/lib/python3.11/dist-packages (from datasets) (0.70.15)\n",
            "Requirement already satisfied: fsspec>=2021.11.1 in /usr/local/lib/python3.11/dist-packages (from fsspec[http]>=2021.11.1->datasets) (2025.3.2)\n",
            "Requirement already satisfied: aiohttp in /usr/local/lib/python3.11/dist-packages (from datasets) (3.11.15)\n",
            "Requirement already satisfied: huggingface-hub<1.0.0,>=0.14.0 in /usr/local/lib/python3.11/dist-packages (from datasets) (0.32.4)\n",
            "Requirement already satisfied: pyyaml>=5.1 in /usr/local/lib/python3.11/dist-packages (from datasets) (6.0.2)\n",
            "Requirement already satisfied: aiohappyeyeballs>=2.3.0 in /usr/local/lib/python3.11/dist-packages (from aiohttp->datasets) (2.6.1)\n",
            "Requirement already satisfied: aiosignal>=1.1.2 in /usr/local/lib/python3.11/dist-packages (from aiohttp->datasets) (1.3.2)\n",
            "Requirement already satisfied: attrs>=17.3.0 in /usr/local/lib/python3.11/dist-packages (from aiohttp->datasets) (25.3.0)\n",
            "Requirement already satisfied: frozenlist>=1.1.1 in /usr/local/lib/python3.11/dist-packages (from aiohttp->datasets) (1.6.0)\n",
            "Requirement already satisfied: multidict<7.0,>=4.5 in /usr/local/lib/python3.11/dist-packages (from aiohttp->datasets) (6.4.4)\n",
            "Requirement already satisfied: propcache>=0.2.0 in /usr/local/lib/python3.11/dist-packages (from aiohttp->datasets) (0.3.1)\n",
            "Requirement already satisfied: yarl<2.0,>=1.17.0 in /usr/local/lib/python3.11/dist-packages (from aiohttp->datasets) (1.20.0)\n",
            "Requirement already satisfied: filelock in /usr/local/lib/python3.11/dist-packages (from huggingface-hub<1.0.0,>=0.14.0->datasets) (3.18.0)\n",
            "Requirement already satisfied: typing-extensions>=3.7.4.3 in /usr/local/lib/python3.11/dist-packages (from huggingface-hub<1.0.0,>=0.14.0->datasets) (4.14.0)\n",
            "Requirement already satisfied: hf-xet<2.0.0,>=1.1.2 in /usr/local/lib/python3.11/dist-packages (from huggingface-hub<1.0.0,>=0.14.0->datasets) (1.1.2)\n",
            "Requirement already satisfied: six>=1.5 in /usr/local/lib/python3.11/dist-packages (from python-dateutil>=2.7->matplotlib) (1.17.0)\n",
            "Requirement already satisfied: charset-normalizer<4,>=2 in /usr/local/lib/python3.11/dist-packages (from requests>=2.19.0->datasets) (3.4.2)\n",
            "Requirement already satisfied: idna<4,>=2.5 in /usr/local/lib/python3.11/dist-packages (from requests>=2.19.0->datasets) (3.10)\n",
            "Requirement already satisfied: urllib3<3,>=1.21.1 in /usr/local/lib/python3.11/dist-packages (from requests>=2.19.0->datasets) (2.4.0)\n",
            "Requirement already satisfied: certifi>=2017.4.17 in /usr/local/lib/python3.11/dist-packages (from requests>=2.19.0->datasets) (2025.4.26)\n",
            "Requirement already satisfied: pytz>=2020.1 in /usr/local/lib/python3.11/dist-packages (from pandas->datasets) (2025.2)\n",
            "Requirement already satisfied: tzdata>=2022.7 in /usr/local/lib/python3.11/dist-packages (from pandas->datasets) (2025.2)\n"
          ]
        }
      ],
      "source": [
        "# Package installation (hidden on docs website).\n",
        "dependencies = [\"cleanlab\", \"matplotlib\", \"datasets\"]  # TODO: make sure this list is updated\n",
        "\n",
        "if \"google.colab\" in str(get_ipython()):  # Check if it's running in Google Colab\n",
        "    %pip install cleanlab==v2.7.1\n",
        "    cmd = ' '.join([dep for dep in dependencies if dep != \"cleanlab\"])\n",
        "    %pip install $cmd\n",
        "else:\n",
        "    dependencies_test = [dependency.split('>')[0] if '>' in dependency\n",
        "                         else dependency.split('<')[0] if '<' in dependency\n",
        "                         else dependency.split('=')[0] for dependency in dependencies]\n",
        "    missing_dependencies = []\n",
        "    for dependency in dependencies_test:\n",
        "        try:\n",
        "            __import__(dependency)\n",
        "        except ImportError:\n",
        "            missing_dependencies.append(dependency)\n",
        "\n",
        "    if len(missing_dependencies) > 0:\n",
        "        print(\"Missing required dependencies:\")\n",
        "        print(*missing_dependencies, sep=\", \")\n",
        "        print(\"\\nPlease install them before running the rest of this notebook.\")"
      ]
    },
    {
      "cell_type": "code",
      "execution_count": 2,
      "metadata": {
        "execution": {
          "iopub.execute_input": "2025-02-27T15:39:18.448774Z",
          "iopub.status.busy": "2025-02-27T15:39:18.448510Z",
          "iopub.status.idle": "2025-02-27T15:39:18.451657Z",
          "shell.execute_reply": "2025-02-27T15:39:18.451118Z"
        },
        "id": "Y1pFJ-NxplIW"
      },
      "outputs": [],
      "source": [
        "import numpy as np\n",
        "import pandas as pd\n",
        "from sklearn.linear_model import LogisticRegression\n",
        "from sklearn.model_selection import cross_val_predict\n",
        "\n",
        "from cleanlab import Datalab"
      ]
    },
    {
      "cell_type": "markdown",
      "metadata": {
        "id": "OXlJut8uplIW"
      },
      "source": [
        "## 2. Create and load the data (can skip these details)"
      ]
    },
    {
      "cell_type": "markdown",
      "metadata": {
        "id": "YGNPXbdSplIX"
      },
      "source": [
        "We'll load a toy classification dataset for this tutorial. The dataset has two numerical features and a label column with three possible classes. Each example is classified as either: *low*, *mid* or *high*."
      ]
    },
    {
      "cell_type": "markdown",
      "metadata": {
        "id": "aSDnkN37plIX"
      },
      "source": [
        "<details><summary>See the code for data generation. **(click to expand)**</summary>\n",
        "    \n",
        "```ipython3\n",
        "# Note: This pulldown content is for docs.cleanlab.ai, if running on local Jupyter or Colab, please ignore it.\n",
        "\n",
        "from sklearn.model_selection import train_test_split\n",
        "from cleanlab.benchmarking.noise_generation import (\n",
        "    generate_noise_matrix_from_trace,\n",
        "    generate_noisy_labels,\n",
        ")\n",
        "\n",
        "SEED = 123\n",
        "np.random.seed(SEED)\n",
        "\n",
        "BINS = {\n",
        "    \"low\": [-np.inf, 3.3],\n",
        "    \"mid\": [3.3, 6.6],\n",
        "    \"high\": [6.6, +np.inf],\n",
        "}\n",
        "\n",
        "BINS_MAP = {\n",
        "    \"low\": 0,\n",
        "    \"mid\": 1,\n",
        "    \"high\": 2,\n",
        "}\n",
        "\n",
        "\n",
        "def create_data():\n",
        "\n",
        "    X = np.random.rand(250, 2) * 5\n",
        "    y = np.sum(X, axis=1)\n",
        "    # Map y to bins based on the BINS dict\n",
        "    y_bin = np.array([k for y_i in y for k, v in BINS.items() if v[0] <= y_i < v[1]])\n",
        "    y_bin_idx = np.array([BINS_MAP[k] for k in y_bin])\n",
        "\n",
        "    # Split into train and test\n",
        "    X_train, X_test, y_train, y_test, y_train_idx, y_test_idx = train_test_split(\n",
        "        X, y_bin, y_bin_idx, test_size=0.5, random_state=SEED\n",
        "    )\n",
        "\n",
        "    # Add several (5) out-of-distribution points. Sliding them along the decision boundaries\n",
        "    # to make them look like they are out-of-frame\n",
        "    X_out = np.array(\n",
        "        [\n",
        "            [-1.5, 3.0],\n",
        "            [-1.75, 6.5],\n",
        "            [1.5, 7.2],\n",
        "            [2.5, -2.0],\n",
        "            [5.5, 7.0],\n",
        "        ]\n",
        "    )\n",
        "    # Add a near duplicate point to the last outlier, with some tiny noise added\n",
        "    near_duplicate = X_out[-1:] + np.random.rand(1, 2) * 1e-6\n",
        "    X_out = np.concatenate([X_out, near_duplicate])\n",
        "\n",
        "    y_out = np.sum(X_out, axis=1)\n",
        "    y_out_bin = np.array([k for y_i in y_out for k, v in BINS.items() if v[0] <= y_i < v[1]])\n",
        "    y_out_bin_idx = np.array([BINS_MAP[k] for k in y_out_bin])\n",
        "\n",
        "    # Add to train\n",
        "    X_train = np.concatenate([X_train, X_out])\n",
        "    y_train = np.concatenate([y_train, y_out])\n",
        "    y_train_idx = np.concatenate([y_train_idx, y_out_bin_idx])\n",
        "\n",
        "    # Add an exact duplicate example to the training set\n",
        "    exact_duplicate_idx = np.random.randint(0, len(X_train))\n",
        "    X_duplicate = X_train[exact_duplicate_idx, None]\n",
        "    y_duplicate = y_train[exact_duplicate_idx, None]\n",
        "    y_duplicate_idx = y_train_idx[exact_duplicate_idx, None]\n",
        "\n",
        "    # Add to train\n",
        "    X_train = np.concatenate([X_train, X_duplicate])\n",
        "    y_train = np.concatenate([y_train, y_duplicate])\n",
        "    y_train_idx = np.concatenate([y_train_idx, y_duplicate_idx])\n",
        "\n",
        "    py = np.bincount(y_train_idx) / float(len(y_train_idx))\n",
        "    m = len(BINS)\n",
        "\n",
        "    noise_matrix = generate_noise_matrix_from_trace(\n",
        "        m,\n",
        "        trace=0.9 * m,\n",
        "        py=py,\n",
        "        valid_noise_matrix=True,\n",
        "        seed=SEED,\n",
        "    )\n",
        "\n",
        "    noisy_labels_idx = generate_noisy_labels(y_train_idx, noise_matrix)\n",
        "    noisy_labels = np.array([list(BINS_MAP.keys())[i] for i in noisy_labels_idx])\n",
        "\n",
        "    return X_train, y_train_idx, noisy_labels, noisy_labels_idx, X_out, X_duplicate\n",
        "```\n",
        "\n",
        "</details>"
      ]
    },
    {
      "cell_type": "code",
      "execution_count": 3,
      "metadata": {
        "execution": {
          "iopub.execute_input": "2025-02-27T15:39:18.453375Z",
          "iopub.status.busy": "2025-02-27T15:39:18.453082Z",
          "iopub.status.idle": "2025-02-27T15:39:18.462504Z",
          "shell.execute_reply": "2025-02-27T15:39:18.461943Z"
        },
        "nbsphinx": "hidden",
        "id": "ghGvlaGzplIY"
      },
      "outputs": [],
      "source": [
        "from sklearn.model_selection import train_test_split\n",
        "from cleanlab.benchmarking.noise_generation import (\n",
        "    generate_noise_matrix_from_trace,\n",
        "    generate_noisy_labels,\n",
        ")\n",
        "\n",
        "SEED = 123\n",
        "np.random.seed(SEED)\n",
        "\n",
        "BINS = {\n",
        "    \"low\": [-np.inf, 3.3],\n",
        "    \"mid\": [3.3, 6.6],\n",
        "    \"high\": [6.6, +np.inf],\n",
        "}\n",
        "\n",
        "BINS_MAP = {\n",
        "    \"low\": 0,\n",
        "    \"mid\": 1,\n",
        "    \"high\": 2,\n",
        "}\n",
        "\n",
        "\n",
        "def create_data():\n",
        "\n",
        "    X = np.random.rand(250, 2) * 5\n",
        "    y = np.sum(X, axis=1)\n",
        "    # Map y to bins based on the BINS dict\n",
        "    y_bin = np.array([k for y_i in y for k, v in BINS.items() if v[0] <= y_i < v[1]])\n",
        "    y_bin_idx = np.array([BINS_MAP[k] for k in y_bin])\n",
        "\n",
        "    # Split into train and test\n",
        "    X_train, X_test, y_train, y_test, y_train_idx, y_test_idx = train_test_split(\n",
        "        X, y_bin, y_bin_idx, test_size=0.5, random_state=SEED\n",
        "    )\n",
        "\n",
        "    # Add several (5) out-of-distribution points. Sliding them along the decision boundaries\n",
        "    # to make them look like they are out-of-frame\n",
        "    X_out = np.array(\n",
        "        [\n",
        "            [-1.5, 3.0],\n",
        "            [-1.75, 6.5],\n",
        "            [1.5, 7.2],\n",
        "            [2.5, -2.0],\n",
        "            [5.5, 7.0],\n",
        "        ]\n",
        "    )\n",
        "    # Add a near duplicate point to the last outlier, with some tiny noise added\n",
        "    near_duplicate = X_out[-1:] + np.random.rand(1, 2) * 1e-6\n",
        "    X_out = np.concatenate([X_out, near_duplicate])\n",
        "\n",
        "    y_out = np.sum(X_out, axis=1)\n",
        "    y_out_bin = np.array([k for y_i in y_out for k, v in BINS.items() if v[0] <= y_i < v[1]])\n",
        "    y_out_bin_idx = np.array([BINS_MAP[k] for k in y_out_bin])\n",
        "\n",
        "    # Add to train\n",
        "    X_train = np.concatenate([X_train, X_out])\n",
        "    y_train = np.concatenate([y_train, y_out])\n",
        "    y_train_idx = np.concatenate([y_train_idx, y_out_bin_idx])\n",
        "\n",
        "    # Add an exact duplicate example to the training set\n",
        "    exact_duplicate_idx = np.random.randint(0, len(X_train))\n",
        "    X_duplicate = X_train[exact_duplicate_idx, None]\n",
        "    y_duplicate = y_train[exact_duplicate_idx, None]\n",
        "    y_duplicate_idx = y_train_idx[exact_duplicate_idx, None]\n",
        "\n",
        "    # Add to train\n",
        "    X_train = np.concatenate([X_train, X_duplicate])\n",
        "    y_train = np.concatenate([y_train, y_duplicate])\n",
        "    y_train_idx = np.concatenate([y_train_idx, y_duplicate_idx])\n",
        "\n",
        "    py = np.bincount(y_train_idx) / float(len(y_train_idx))\n",
        "    m = len(BINS)\n",
        "\n",
        "    noise_matrix = generate_noise_matrix_from_trace(\n",
        "        m,\n",
        "        trace=0.9 * m,\n",
        "        py=py,\n",
        "        valid_noise_matrix=True,\n",
        "        seed=SEED,\n",
        "    )\n",
        "\n",
        "    noisy_labels_idx = generate_noisy_labels(y_train_idx, noise_matrix)\n",
        "    noisy_labels = np.array([list(BINS_MAP.keys())[i] for i in noisy_labels_idx])\n",
        "    # Assign few datapoints to rare class\n",
        "    random_idx = np.random.randint(0, X_train.shape[0], 3)\n",
        "    noisy_labels[random_idx] = \"max\"\n",
        "    noisy_labels_idx[random_idx] = np.max(y_bin_idx) + 1\n",
        "\n",
        "\n",
        "    return X_train, y_train_idx, noisy_labels, noisy_labels_idx, X_out, X_duplicate"
      ]
    },
    {
      "cell_type": "code",
      "execution_count": 6,
      "metadata": {
        "execution": {
          "iopub.execute_input": "2025-02-27T15:39:18.463991Z",
          "iopub.status.busy": "2025-02-27T15:39:18.463733Z",
          "iopub.status.idle": "2025-02-27T15:39:18.469149Z",
          "shell.execute_reply": "2025-02-27T15:39:18.468653Z"
        },
        "id": "wgmfu1KsplIY"
      },
      "outputs": [],
      "source": [
        "X_train, y_train_idx, noisy_labels, noisy_labels_idx, X_out, X_duplicate = create_data()"
      ]
    },
    {
      "cell_type": "markdown",
      "metadata": {
        "id": "HLjFruH3plIZ"
      },
      "source": [
        "We make a scatter plot of the features, with a color corresponding to the observed labels. Incorrect given labels are highlighted in red if they do not match the true label, outliers highlighted with an a black cross, and duplicates highlighted with a cyan cross."
      ]
    },
    {
      "cell_type": "code",
      "source": [],
      "metadata": {
        "id": "i65NaW0lsVo2"
      },
      "execution_count": 5,
      "outputs": []
    },
    {
      "cell_type": "markdown",
      "metadata": {
        "id": "XRf690oOplIZ"
      },
      "source": [
        "<details><summary>See the code to visualize the data. **(click to expand)**</summary>\n",
        "    \n",
        "```ipython3\n",
        "# Note: This pulldown content is for docs.cleanlab.ai, if running on local Jupyter or Colab, please ignore it.\n",
        "\n",
        "import matplotlib.pyplot as plt\n",
        "\n",
        "def plot_data(X_train, y_train_idx, noisy_labels_idx, X_out, X_duplicate):\n",
        "    # Plot data with clean labels and noisy labels, use BINS_MAP for the legend\n",
        "    fig, ax = plt.subplots(figsize=(8, 6.5))\n",
        "        \n",
        "    low = ax.scatter(X_train[noisy_labels_idx == 0, 0], X_train[noisy_labels_idx == 0, 1], label=\"low\")\n",
        "    mid = ax.scatter(X_train[noisy_labels_idx == 1, 0], X_train[noisy_labels_idx == 1, 1], label=\"mid\")\n",
        "    high = ax.scatter(X_train[noisy_labels_idx == 2, 0], X_train[noisy_labels_idx == 2, 1], label=\"high\")\n",
        "    \n",
        "    ax.set_title(\"Noisy labels\")\n",
        "    ax.set_xlabel(r\"$x_1$\", fontsize=16)\n",
        "    ax.set_ylabel(r\"$x_2$\", fontsize=16)\n",
        "\n",
        "    # Plot true boundaries (x+y=3.3, x+y=6.6)\n",
        "    ax.set_xlim(-3.5, 9.0)\n",
        "    ax.set_ylim(-3.5, 9.0)\n",
        "    ax.plot([-0.7, 4.0], [4.0, -0.7], color=\"k\", linestyle=\"--\", alpha=0.5)\n",
        "    ax.plot([-0.7, 7.3], [7.3, -0.7], color=\"k\", linestyle=\"--\", alpha=0.5)\n",
        "\n",
        "    # Draw red circles around the points that are misclassified (i.e. the points that are in the wrong bin)\n",
        "    for i, (X, y) in enumerate(zip([X_train, X_train], [y_train_idx, noisy_labels_idx])):\n",
        "        for j, (k, v) in enumerate(BINS_MAP.items()):\n",
        "            label_err = ax.scatter(\n",
        "                X[(y == v) & (y != y_train_idx), 0],\n",
        "                X[(y == v) & (y != y_train_idx), 1],\n",
        "                s=180,\n",
        "                marker=\"o\",\n",
        "                facecolor=\"none\",\n",
        "                edgecolors=\"red\",\n",
        "                linewidths=2.5,\n",
        "                alpha=0.5,\n",
        "                label=\"Label error\",\n",
        "            )\n",
        "\n",
        "\n",
        "    outlier = ax.scatter(X_out[:, 0], X_out[:, 1], color=\"k\", marker=\"x\", s=100, linewidth=2, label=\"Outlier\")\n",
        "\n",
        "    # Plot the exact duplicate\n",
        "    dups = ax.scatter(\n",
        "        X_duplicate[:, 0],\n",
        "        X_duplicate[:, 1],\n",
        "        color=\"c\",\n",
        "        marker=\"x\",\n",
        "        s=100,\n",
        "        linewidth=2,\n",
        "        label=\"Duplicates\",\n",
        "    )\n",
        "    \n",
        "    first_legend = ax.legend(handles=[low, mid, high], loc=[0.75, 0.7], title=\"Given Class Label\", alignment=\"left\", title_fontproperties={\"weight\":\"semibold\"})\n",
        "    second_legend = ax.legend(handles=[label_err, outlier, dups], loc=[0.75, 0.45], title=\"Type of Issue\", alignment=\"left\", title_fontproperties={\"weight\":\"semibold\"})\n",
        "    \n",
        "    ax = plt.gca().add_artist(first_legend)\n",
        "    ax = plt.gca().add_artist(second_legend)\n",
        "    plt.tight_layout()\n",
        "```\n",
        "    \n",
        "</details>"
      ]
    },
    {
      "cell_type": "code",
      "execution_count": 4,
      "metadata": {
        "execution": {
          "iopub.execute_input": "2025-02-27T15:39:18.471158Z",
          "iopub.status.busy": "2025-02-27T15:39:18.470714Z",
          "iopub.status.idle": "2025-02-27T15:39:18.652626Z",
          "shell.execute_reply": "2025-02-27T15:39:18.652135Z"
        },
        "nbsphinx": "hidden",
        "id": "BfNkZJYVplIZ"
      },
      "outputs": [],
      "source": [
        "import matplotlib.pyplot as plt\n",
        "\n",
        "def plot_data(X_train, y_train_idx, noisy_labels_idx, X_out, X_duplicate):\n",
        "    # Plot data with clean labels and noisy labels, use BINS_MAP for the legend\n",
        "    fig, ax = plt.subplots(figsize=(6, 4))\n",
        "\n",
        "    low = ax.scatter(X_train[noisy_labels_idx == 0, 0], X_train[noisy_labels_idx == 0, 1], label=\"low\")\n",
        "    mid = ax.scatter(X_train[noisy_labels_idx == 1, 0], X_train[noisy_labels_idx == 1, 1], label=\"mid\")\n",
        "    high = ax.scatter(X_train[noisy_labels_idx == 2, 0], X_train[noisy_labels_idx == 2, 1], label=\"high\")\n",
        "\n",
        "    ax.set_title(\"Noisy labels\")\n",
        "    ax.set_xlabel(r\"$x_1$\", fontsize=16)\n",
        "    ax.set_ylabel(r\"$x_2$\", fontsize=16)\n",
        "\n",
        "    # Plot true boundaries (x+y=3.3, x+y=6.6)\n",
        "    ax.set_xlim(-2.5, 8.5)\n",
        "    ax.set_ylim(-3.5, 9.0)\n",
        "    ax.plot([-0.7, 4.0], [4.0, -0.7], color=\"k\", linestyle=\"--\", alpha=0.5)\n",
        "    ax.plot([-0.7, 7.3], [7.3, -0.7], color=\"k\", linestyle=\"--\", alpha=0.5)\n",
        "\n",
        "    # Draw red circles around the points that are misclassified (i.e. the points that are in the wrong bin)\n",
        "    for i, (X, y) in enumerate(zip([X_train, X_train], [y_train_idx, noisy_labels_idx])):\n",
        "        for j, (k, v) in enumerate(BINS_MAP.items()):\n",
        "            label_err = ax.scatter(\n",
        "                X[(y == v) & (y != y_train_idx), 0],\n",
        "                X[(y == v) & (y != y_train_idx), 1],\n",
        "                s=180,\n",
        "                marker=\"o\",\n",
        "                facecolor=\"none\",\n",
        "                edgecolors=\"red\",\n",
        "                linewidths=2.5,\n",
        "                alpha=0.5,\n",
        "                label=\"Label error\",\n",
        "            )\n",
        "\n",
        "\n",
        "    outlier = ax.scatter(X_out[:, 0], X_out[:, 1], color=\"k\", marker=\"x\", s=100, linewidth=2, label=\"Outlier\")\n",
        "\n",
        "    # Plot the exact duplicate\n",
        "    dups = ax.scatter(\n",
        "        X_duplicate[:, 0],\n",
        "        X_duplicate[:, 1],\n",
        "        color=\"c\",\n",
        "        marker=\"x\",\n",
        "        s=100,\n",
        "        linewidth=2,\n",
        "        label=\"Duplicates\",\n",
        "    )\n",
        "\n",
        "    title_fontproperties = {\"weight\":\"semibold\", \"size\": 8}\n",
        "    first_legend = ax.legend(handles=[low, mid, high], loc=[0.76, 0.7], title=\"Given Class Label\", alignment=\"left\", title_fontproperties=title_fontproperties, fontsize=8, markerscale=0.5)\n",
        "    second_legend = ax.legend(handles=[label_err, outlier, dups], loc=[0.76, 0.46], title=\"Type of Issue\", alignment=\"left\", title_fontproperties=title_fontproperties, fontsize=8, markerscale=0.5)\n",
        "\n",
        "    ax = plt.gca().add_artist(first_legend)\n",
        "    ax = plt.gca().add_artist(second_legend)\n",
        "    plt.tight_layout()"
      ]
    },
    {
      "cell_type": "code",
      "execution_count": 7,
      "metadata": {
        "execution": {
          "iopub.execute_input": "2025-02-27T15:39:18.654401Z",
          "iopub.status.busy": "2025-02-27T15:39:18.654217Z",
          "iopub.status.idle": "2025-02-27T15:39:19.044958Z",
          "shell.execute_reply": "2025-02-27T15:39:19.044382Z"
        },
        "id": "MSk1ZL1-plIZ",
        "outputId": "52bb217e-d5ff-45ef-cb04-f40c574e51c1",
        "colab": {
          "base_uri": "https://localhost:8080/",
          "height": 407
        }
      },
      "outputs": [
        {
          "output_type": "display_data",
          "data": {
            "text/plain": [
              "<Figure size 600x400 with 1 Axes>"
            ],
            "image/png": "[encoded data removed]"
          },
          "metadata": {}
        }
      ],
      "source": [
        "plot_data(X_train, y_train_idx, noisy_labels_idx, X_out, X_duplicate)"
      ]
    },
    {
      "cell_type": "markdown",
      "metadata": {
        "id": "pFcwmZsdplIa"
      },
      "source": [
        "In real-world scenarios, you won't know the true labels or the distribution of the features, so we won't use these in this tutorial, except for evaluation purposes.\n",
        "\n",
        "\n",
        "\n",
        "`Datalab` has several ways of loading the data.\n",
        "In this case, we'll simply wrap the training features and noisy labels in a dictionary so that we can pass it to `Datalab`."
      ]
    },
    {
      "cell_type": "code",
      "execution_count": 8,
      "metadata": {
        "execution": {
          "iopub.execute_input": "2025-02-27T15:39:19.047009Z",
          "iopub.status.busy": "2025-02-27T15:39:19.046651Z",
          "iopub.status.idle": "2025-02-27T15:39:19.049316Z",
          "shell.execute_reply": "2025-02-27T15:39:19.048875Z"
        },
        "id": "DTo5HSHNplIa"
      },
      "outputs": [],
      "source": [
        "data = {\"X\": X_train, \"y\": noisy_labels}"
      ]
    },
    {
      "cell_type": "markdown",
      "metadata": {
        "id": "tLUn5UUIplIa"
      },
      "source": [
        "Other supported data formats for `Datalab` include: [HuggingFace Datasets](https://huggingface.co/docs/datasets/index) and [pandas DataFrame](https://pandas.pydata.org/docs/reference/api/pandas.DataFrame.html). `Datalab` works across most data modalities (image, text, tabular, audio, etc). It is intended to find issues that commonly occur in datasets for which you have trained a supervised ML model, regardless of the type of data.\n",
        "\n",
        "Currently, pandas DataFrames that contain categorical columns might cause some issues when instantiating the `Datalab` object, so it is recommended to ensure that your DataFrame does not contain any categorical columns, or use other data formats (eg. python dictionary, HuggingFace Datasets) to pass in your data."
      ]
    },
    {
      "cell_type": "markdown",
      "metadata": {
        "id": "C9VK17TgplIa"
      },
      "source": [
        "## 3. Get out-of-sample predicted probabilities from a classifier"
      ]
    },
    {
      "cell_type": "markdown",
      "metadata": {
        "id": "WJNg0ipHplIa"
      },
      "source": [
        "To detect certain types of issues in classification data (e.g. label errors), `Datalab` relies on predicted class probabilities from a trained model. Ideally, the prediction for each example should be out-of-sample (to avoid overfitting), coming from a copy of the model that was not trained on this example.\n",
        "\n",
        "This tutorial uses a simple logistic regression model\n",
        "and the `cross_val_predict()` function from scikit-learn to generate out-of-sample predicted class probabilities for every example in the training set. You can replace this with *any* other classifier model and train it with cross-validation to get out-of-sample predictions.\n",
        "Make sure that the columns of your `pred_probs` are properly ordered with respect to the ordering of classes, which for Datalab is: lexicographically sorted by class name.\n",
        "\n",
        "对每个样本，使用模型预测它属于每个类别的概率，也叫作 “分类概率” 或 “类概率”\n",
        "\n",
        "y 是训练模型时用到的标签。它并不直接出现在 pred_probs 中，但它影响了：\n",
        "\n",
        "模型训练过程 —— 模型是学了 (X, y) 之后得出的；\n",
        "\n",
        "类别的顺序 —— pred_probs 的列顺序通常与 sorted(np.unique(y)) 一致；\n",
        "\n",
        "Cleanlab 用 y 和 pred_probs 逐个样本比对，找出可能错的标签。\n",
        "\n",
        "---------------------------------------------------------------------------\n",
        "cross_val_predict 不只训练一个固定模型，而是训练了5个不同的模型，每个模型只见过部分数据\n",
        "\n",
        "每个模型都“训练好了”，但是只针对对应的训练fold\n",
        "\n",
        "最终的 pred_probs 是把5个fold的预测结果合起来的\n",
        "\n",
        "----------------------------------------------------------------------------\n",
        "\n",
        "当 method 是 predict_proba、predict_log_proba 或 decision_function（除上述情况外）时：pre_probs形状为 (n_samples, n_classes)\n"
      ]
    },
    {
      "cell_type": "code",
      "execution_count": 9,
      "metadata": {
        "execution": {
          "iopub.execute_input": "2025-02-27T15:39:19.051073Z",
          "iopub.status.busy": "2025-02-27T15:39:19.050739Z",
          "iopub.status.idle": "2025-02-27T15:39:19.095602Z",
          "shell.execute_reply": "2025-02-27T15:39:19.095034Z"
        },
        "id": "O2AqQ521plIa"
      },
      "outputs": [],
      "source": [
        "model = LogisticRegression()\n",
        "pred_probs = cross_val_predict(\n",
        "    estimator=model, X=data[\"X\"], y=data[\"y\"], cv=5, method=\"predict_proba\"\n",
        ")"
      ]
    },
    {
      "cell_type": "markdown",
      "metadata": {
        "id": "ntT34qv9plIb"
      },
      "source": [
        "## 4. Use Datalab to find issues in the dataset"
      ]
    },
    {
      "cell_type": "markdown",
      "metadata": {
        "id": "1NA8UvOuplIb"
      },
      "source": [
        "We create a `Datalab` object from the dataset, also providing the name of the label column in the dataset. Only instantiate one `Datalab` object per dataset, and note that only classification datasets are supported for now.\n",
        "\n",
        "All that is need to audit your data is to call `find_issues()`.\n",
        "This method accepts various inputs like: predicted class probabilities, numeric feature representations of the data. The more information you provide here, the more thoroughly `Datalab` will audit your data! Note that `features` should be some numeric representation of each example, either obtained through preprocessing transformation of your raw data or embeddings from a (pre)trained model. In this case, our data is already entirely numeric so we just provide the features directly."
      ]
    },
    {
      "cell_type": "code",
      "execution_count": 10,
      "metadata": {
        "execution": {
          "iopub.execute_input": "2025-02-27T15:39:19.097809Z",
          "iopub.status.busy": "2025-02-27T15:39:19.097306Z",
          "iopub.status.idle": "2025-02-27T15:39:21.059490Z",
          "shell.execute_reply": "2025-02-27T15:39:21.058885Z"
        },
        "id": "qpSr-VAWplIb",
        "outputId": "6225a92f-3c28-4aee-8574-1b9e9dc2f9f7",
        "colab": {
          "base_uri": "https://localhost:8080/"
        }
      },
      "outputs": [
        {
          "output_type": "stream",
          "name": "stdout",
          "text": [
            "Finding null issues ...\n",
            "Finding label issues ...\n",
            "Finding outlier issues ...\n",
            "Finding near_duplicate issues ...\n",
            "Finding non_iid issues ...\n",
            "Finding class_imbalance issues ...\n",
            "Finding underperforming_group issues ...\n",
            "\n",
            "Audit complete. 30 issues found in the dataset.\n"
          ]
        }
      ],
      "source": [
        "lab = Datalab(data, label_name=\"y\")\n",
        "lab.find_issues(pred_probs=pred_probs, features=data[\"X\"])"
      ]
    },
    {
      "cell_type": "markdown",
      "metadata": {
        "id": "CHVgUAD5plIb"
      },
      "source": [
        "Now let's review the results of this audit using `report()`.\n",
        "This provides a high-level summary of each type of issue found in the dataset."
      ]
    },
    {
      "cell_type": "code",
      "execution_count": 11,
      "metadata": {
        "execution": {
          "iopub.execute_input": "2025-02-27T15:39:21.061891Z",
          "iopub.status.busy": "2025-02-27T15:39:21.061337Z",
          "iopub.status.idle": "2025-02-27T15:39:21.080430Z",
          "shell.execute_reply": "2025-02-27T15:39:21.079971Z"
        },
        "id": "UKyqwgYYplIb",
        "outputId": "c968c976-40a6-47b7-ef60-559dc9941ab9",
        "colab": {
          "base_uri": "https://localhost:8080/"
        }
      },
      "outputs": [
        {
          "output_type": "stream",
          "name": "stdout",
          "text": [
            "Dataset Information: num_examples: 132, num_classes: 4\n",
            "\n",
            "Here is a summary of various issues found in your data:\n",
            "\n",
            "     issue_type  num_issues\n",
            "          label          17\n",
            "        outlier           6\n",
            " near_duplicate           4\n",
            "class_imbalance           3\n",
            "\n",
            "Learn about each issue: https://docs.cleanlab.ai/stable/cleanlab/datalab/guide/issue_type_description.html\n",
            "See which examples in your dataset exhibit each issue via: `datalab.get_issues(<ISSUE_NAME>)`\n",
            "\n",
            "Data indices corresponding to top examples of each issue are shown below.\n",
            "\n",
            "\n",
            "----------------------- label issues -----------------------\n",
            "\n",
            "About this issue:\n",
            "\tExamples whose given label is estimated to be potentially incorrect\n",
            "    (e.g. due to annotation error) are flagged as having label issues.\n",
            "    \n",
            "\n",
            "Number of examples with this issue: 17\n",
            "Overall dataset quality in terms of this issue: 0.8561\n",
            "\n",
            "Examples representing most severe instances of this issue:\n",
            "     is_label_issue  label_score given_label predicted_label\n",
            "77            False     0.001908         max             mid\n",
            "58            False     0.003564         max            high\n",
            "8             False     0.007331         max             mid\n",
            "7              True     0.008963         low             mid\n",
            "120            True     0.009664        high             mid\n",
            "\n",
            "\n",
            "---------------------- outlier issues ----------------------\n",
            "\n",
            "About this issue:\n",
            "\tExamples that are very different from the rest of the dataset \n",
            "    (i.e. potentially out-of-distribution or rare/anomalous instances).\n",
            "    \n",
            "\n",
            "Number of examples with this issue: 6\n",
            "Overall dataset quality in terms of this issue: 0.3558\n",
            "\n",
            "Examples representing most severe instances of this issue:\n",
            "     is_outlier_issue  outlier_score\n",
            "126              True       0.006636\n",
            "130              True       0.012571\n",
            "129              True       0.012571\n",
            "127              True       0.014909\n",
            "128              True       0.017443\n",
            "\n",
            "\n",
            "------------------ near_duplicate issues -------------------\n",
            "\n",
            "About this issue:\n",
            "\tA (near) duplicate issue refers to two or more examples in\n",
            "    a dataset that are extremely similar to each other, relative\n",
            "    to the rest of the dataset.  The examples flagged with this issue\n",
            "    may be exactly duplicated, or lie atypically close together when\n",
            "    represented as vectors (i.e. feature embeddings).\n",
            "    \n",
            "\n",
            "Number of examples with this issue: 4\n",
            "Overall dataset quality in terms of this issue: 0.6160\n",
            "\n",
            "Examples representing most severe instances of this issue:\n",
            "     is_near_duplicate_issue  near_duplicate_score near_duplicate_sets  distance_to_nearest_neighbor\n",
            "131                     True              0.000000               [123]                  0.000000e+00\n",
            "123                     True              0.000000               [131]                  0.000000e+00\n",
            "129                     True              0.000002               [130]                  4.463180e-07\n",
            "130                     True              0.000002               [129]                  4.463180e-07\n",
            "51                     False              0.161148                  []                  3.859087e-02\n",
            "\n",
            "\n",
            "------------------ class_imbalance issues ------------------\n",
            "\n",
            "About this issue:\n",
            "\tExamples belonging to the most under-represented class in the dataset.\n",
            "\n",
            "Number of examples with this issue: 3\n",
            "Overall dataset quality in terms of this issue: 0.0227\n",
            "\n",
            "Examples representing most severe instances of this issue:\n",
            "    is_class_imbalance_issue  class_imbalance_score given_label\n",
            "8                       True               0.022727         max\n",
            "77                      True               0.022727         max\n",
            "58                      True               0.022727         max\n",
            "86                     False               1.000000         mid\n",
            "87                     False               1.000000         mid\n",
            "\n",
            "Additional Information: \n",
            "Rarest Class: max\n"
          ]
        }
      ],
      "source": [
        "lab.report()"
      ]
    },
    {
      "cell_type": "markdown",
      "metadata": {
        "id": "FuIlHP_PplIc"
      },
      "source": [
        "## 5. Learn more about the issues in your dataset"
      ]
    },
    {
      "cell_type": "markdown",
      "metadata": {
        "id": "OwItFhSWplIc"
      },
      "source": [
        "Datalab detects all sorts of issues in a dataset and what to do with the findings will vary case-by-case. For automated improvement of a dataset via best practices to handle auto-detected issues, try [Cleanlab Studio](https://cleanlab.ai/?utm_source=internal&utm_medium=blog&utm_campaign=clostostudio).\n",
        "\n",
        "To conceptually understand how each type of issue is defined and what it means if detected in your data, check out the [Issue Type Descriptions](../../cleanlab/datalab/guide/issue_type_description.html) page. The [Datalab Issue Types](https://docs.cleanlab.ai/stable/cleanlab/datalab/guide/issue_type_description.html) page also lists additional types of issues that `Datalab.find_issues()` can detect, as well as optional parameters you can specify for greater control over how your data are checked.\n",
        "\n",
        "Datalab offers several methods to understand more details about a particular issue in your dataset.\n",
        "The `get_issue_summary()` method fetches summary statistics regarding how severe each type of issue is overall across the whole dataset."
      ]
    },
    {
      "cell_type": "code",
      "execution_count": null,
      "metadata": {
        "execution": {
          "iopub.execute_input": "2025-02-27T15:39:21.082296Z",
          "iopub.status.busy": "2025-02-27T15:39:21.081934Z",
          "iopub.status.idle": "2025-02-27T15:39:21.088597Z",
          "shell.execute_reply": "2025-02-27T15:39:21.088014Z"
        },
        "id": "UF3kY0HeplIc",
        "outputId": "d1aef268-2ce6-4241-a026-218c8adc5dc2"
      },
      "outputs": [
        {
          "data": {
            "text/html": [
              "<div>\n",
              "<style scoped>\n",
              "    .dataframe tbody tr th:only-of-type {\n",
              "        vertical-align: middle;\n",
              "    }\n",
              "\n",
              "    .dataframe tbody tr th {\n",
              "        vertical-align: top;\n",
              "    }\n",
              "\n",
              "    .dataframe thead th {\n",
              "        text-align: right;\n",
              "    }\n",
              "</style>\n",
              "<table border=\"1\" class=\"dataframe\">\n",
              "  <thead>\n",
              "    <tr style=\"text-align: right;\">\n",
              "      <th></th>\n",
              "      <th>issue_type</th>\n",
              "      <th>score</th>\n",
              "      <th>num_issues</th>\n",
              "    </tr>\n",
              "  </thead>\n",
              "  <tbody>\n",
              "    <tr>\n",
              "      <th>0</th>\n",
              "      <td>null</td>\n",
              "      <td>1.000000</td>\n",
              "      <td>0</td>\n",
              "    </tr>\n",
              "    <tr>\n",
              "      <th>1</th>\n",
              "      <td>label</td>\n",
              "      <td>0.856061</td>\n",
              "      <td>17</td>\n",
              "    </tr>\n",
              "    <tr>\n",
              "      <th>2</th>\n",
              "      <td>outlier</td>\n",
              "      <td>0.355772</td>\n",
              "      <td>6</td>\n",
              "    </tr>\n",
              "    <tr>\n",
              "      <th>3</th>\n",
              "      <td>near_duplicate</td>\n",
              "      <td>0.616034</td>\n",
              "      <td>4</td>\n",
              "    </tr>\n",
              "    <tr>\n",
              "      <th>4</th>\n",
              "      <td>non_iid</td>\n",
              "      <td>0.821750</td>\n",
              "      <td>0</td>\n",
              "    </tr>\n",
              "    <tr>\n",
              "      <th>5</th>\n",
              "      <td>class_imbalance</td>\n",
              "      <td>0.022727</td>\n",
              "      <td>3</td>\n",
              "    </tr>\n",
              "    <tr>\n",
              "      <th>6</th>\n",
              "      <td>underperforming_group</td>\n",
              "      <td>0.926818</td>\n",
              "      <td>0</td>\n",
              "    </tr>\n",
              "  </tbody>\n",
              "</table>\n",
              "</div>"
            ],
            "text/plain": [
              "              issue_type     score  num_issues\n",
              "0                   null  1.000000           0\n",
              "1                  label  0.856061          17\n",
              "2                outlier  0.355772           6\n",
              "3         near_duplicate  0.616034           4\n",
              "4                non_iid  0.821750           0\n",
              "5        class_imbalance  0.022727           3\n",
              "6  underperforming_group  0.926818           0"
            ]
          },
          "execution_count": 11,
          "metadata": {},
          "output_type": "execute_result"
        }
      ],
      "source": [
        "lab.get_issue_summary()"
      ]
    },
    {
      "cell_type": "markdown",
      "metadata": {
        "id": "JuUkNvLYplIc"
      },
      "source": [
        "In the returned summary DataFrame: LOWER `score` values indicate types of issues that are MORE severe *overall* across the dataset (lower-quality data in terms of this issue), HIGHER `num_issues` values indicate types of issues that are MORE severe *overall* across the dataset (more datapoints appear to exhibit this issue).\n",
        "\n",
        "We can also only request the summary for a particular type of issue."
      ]
    },
    {
      "cell_type": "code",
      "execution_count": null,
      "metadata": {
        "execution": {
          "iopub.execute_input": "2025-02-27T15:39:21.090410Z",
          "iopub.status.busy": "2025-02-27T15:39:21.089968Z",
          "iopub.status.idle": "2025-02-27T15:39:21.096011Z",
          "shell.execute_reply": "2025-02-27T15:39:21.095452Z"
        },
        "id": "OykPLUyqplIc",
        "outputId": "d86c345c-266a-4b5e-fa55-1acf67313439"
      },
      "outputs": [
        {
          "data": {
            "text/html": [
              "<div>\n",
              "<style scoped>\n",
              "    .dataframe tbody tr th:only-of-type {\n",
              "        vertical-align: middle;\n",
              "    }\n",
              "\n",
              "    .dataframe tbody tr th {\n",
              "        vertical-align: top;\n",
              "    }\n",
              "\n",
              "    .dataframe thead th {\n",
              "        text-align: right;\n",
              "    }\n",
              "</style>\n",
              "<table border=\"1\" class=\"dataframe\">\n",
              "  <thead>\n",
              "    <tr style=\"text-align: right;\">\n",
              "      <th></th>\n",
              "      <th>issue_type</th>\n",
              "      <th>score</th>\n",
              "      <th>num_issues</th>\n",
              "    </tr>\n",
              "  </thead>\n",
              "  <tbody>\n",
              "    <tr>\n",
              "      <th>0</th>\n",
              "      <td>label</td>\n",
              "      <td>0.856061</td>\n",
              "      <td>17</td>\n",
              "    </tr>\n",
              "  </tbody>\n",
              "</table>\n",
              "</div>"
            ],
            "text/plain": [
              "  issue_type     score  num_issues\n",
              "0      label  0.856061          17"
            ]
          },
          "execution_count": 12,
          "metadata": {},
          "output_type": "execute_result"
        }
      ],
      "source": [
        "lab.get_issue_summary(\"label\")"
      ]
    },
    {
      "cell_type": "markdown",
      "metadata": {
        "id": "PsEbOd8uplIc"
      },
      "source": [
        "The `get_issues()` method returns information for each *individual example* in the dataset including: whether or not it is plagued by this issue (Boolean), as well as a *quality score* (numeric value betweeen 0 to 1) quantifying how severe this issue appears to be for this particular example."
      ]
    },
    {
      "cell_type": "code",
      "execution_count": null,
      "metadata": {
        "execution": {
          "iopub.execute_input": "2025-02-27T15:39:21.097807Z",
          "iopub.status.busy": "2025-02-27T15:39:21.097632Z",
          "iopub.status.idle": "2025-02-27T15:39:21.108136Z",
          "shell.execute_reply": "2025-02-27T15:39:21.107671Z"
        },
        "id": "hY4PWkd3plIc",
        "outputId": "413abca6-0b10-46f9-c8d6-f16ef59d7684"
      },
      "outputs": [
        {
          "data": {
            "text/html": [
              "<div>\n",
              "<style scoped>\n",
              "    .dataframe tbody tr th:only-of-type {\n",
              "        vertical-align: middle;\n",
              "    }\n",
              "\n",
              "    .dataframe tbody tr th {\n",
              "        vertical-align: top;\n",
              "    }\n",
              "\n",
              "    .dataframe thead th {\n",
              "        text-align: right;\n",
              "    }\n",
              "</style>\n",
              "<table border=\"1\" class=\"dataframe\">\n",
              "  <thead>\n",
              "    <tr style=\"text-align: right;\">\n",
              "      <th></th>\n",
              "      <th>is_null_issue</th>\n",
              "      <th>null_score</th>\n",
              "      <th>is_label_issue</th>\n",
              "      <th>label_score</th>\n",
              "      <th>is_outlier_issue</th>\n",
              "      <th>outlier_score</th>\n",
              "      <th>is_near_duplicate_issue</th>\n",
              "      <th>near_duplicate_score</th>\n",
              "      <th>is_non_iid_issue</th>\n",
              "      <th>non_iid_score</th>\n",
              "      <th>is_class_imbalance_issue</th>\n",
              "      <th>class_imbalance_score</th>\n",
              "      <th>is_underperforming_group_issue</th>\n",
              "      <th>underperforming_group_score</th>\n",
              "    </tr>\n",
              "  </thead>\n",
              "  <tbody>\n",
              "    <tr>\n",
              "      <th>0</th>\n",
              "      <td>False</td>\n",
              "      <td>1.0</td>\n",
              "      <td>False</td>\n",
              "      <td>0.859131</td>\n",
              "      <td>False</td>\n",
              "      <td>0.417707</td>\n",
              "      <td>False</td>\n",
              "      <td>0.664083</td>\n",
              "      <td>False</td>\n",
              "      <td>0.970324</td>\n",
              "      <td>False</td>\n",
              "      <td>1.0</td>\n",
              "      <td>False</td>\n",
              "      <td>1.000000</td>\n",
              "    </tr>\n",
              "    <tr>\n",
              "      <th>1</th>\n",
              "      <td>False</td>\n",
              "      <td>1.0</td>\n",
              "      <td>False</td>\n",
              "      <td>0.816953</td>\n",
              "      <td>False</td>\n",
              "      <td>0.375317</td>\n",
              "      <td>False</td>\n",
              "      <td>0.641516</td>\n",
              "      <td>False</td>\n",
              "      <td>0.890575</td>\n",
              "      <td>False</td>\n",
              "      <td>1.0</td>\n",
              "      <td>False</td>\n",
              "      <td>0.910232</td>\n",
              "    </tr>\n",
              "    <tr>\n",
              "      <th>2</th>\n",
              "      <td>False</td>\n",
              "      <td>1.0</td>\n",
              "      <td>False</td>\n",
              "      <td>0.531021</td>\n",
              "      <td>False</td>\n",
              "      <td>0.460593</td>\n",
              "      <td>False</td>\n",
              "      <td>0.601188</td>\n",
              "      <td>False</td>\n",
              "      <td>0.826147</td>\n",
              "      <td>False</td>\n",
              "      <td>1.0</td>\n",
              "      <td>False</td>\n",
              "      <td>0.910232</td>\n",
              "    </tr>\n",
              "    <tr>\n",
              "      <th>3</th>\n",
              "      <td>False</td>\n",
              "      <td>1.0</td>\n",
              "      <td>False</td>\n",
              "      <td>0.752808</td>\n",
              "      <td>False</td>\n",
              "      <td>0.321635</td>\n",
              "      <td>False</td>\n",
              "      <td>0.562539</td>\n",
              "      <td>False</td>\n",
              "      <td>0.948362</td>\n",
              "      <td>False</td>\n",
              "      <td>1.0</td>\n",
              "      <td>False</td>\n",
              "      <td>0.890169</td>\n",
              "    </tr>\n",
              "    <tr>\n",
              "      <th>4</th>\n",
              "      <td>False</td>\n",
              "      <td>1.0</td>\n",
              "      <td>True</td>\n",
              "      <td>0.090243</td>\n",
              "      <td>False</td>\n",
              "      <td>0.472909</td>\n",
              "      <td>False</td>\n",
              "      <td>0.746763</td>\n",
              "      <td>False</td>\n",
              "      <td>0.878267</td>\n",
              "      <td>False</td>\n",
              "      <td>1.0</td>\n",
              "      <td>False</td>\n",
              "      <td>1.000000</td>\n",
              "    </tr>\n",
              "  </tbody>\n",
              "</table>\n",
              "</div>"
            ],
            "text/plain": [
              "   is_null_issue  null_score  is_label_issue  label_score  is_outlier_issue  \\\n",
              "0          False         1.0           False     0.859131             False   \n",
              "1          False         1.0           False     0.816953             False   \n",
              "2          False         1.0           False     0.531021             False   \n",
              "3          False         1.0           False     0.752808             False   \n",
              "4          False         1.0            True     0.090243             False   \n",
              "\n",
              "   outlier_score  is_near_duplicate_issue  near_duplicate_score  \\\n",
              "0       0.417707                    False              0.664083   \n",
              "1       0.375317                    False              0.641516   \n",
              "2       0.460593                    False              0.601188   \n",
              "3       0.321635                    False              0.562539   \n",
              "4       0.472909                    False              0.746763   \n",
              "\n",
              "   is_non_iid_issue  non_iid_score  is_class_imbalance_issue  \\\n",
              "0             False       0.970324                     False   \n",
              "1             False       0.890575                     False   \n",
              "2             False       0.826147                     False   \n",
              "3             False       0.948362                     False   \n",
              "4             False       0.878267                     False   \n",
              "\n",
              "   class_imbalance_score  is_underperforming_group_issue  \\\n",
              "0                    1.0                           False   \n",
              "1                    1.0                           False   \n",
              "2                    1.0                           False   \n",
              "3                    1.0                           False   \n",
              "4                    1.0                           False   \n",
              "\n",
              "   underperforming_group_score  \n",
              "0                     1.000000  \n",
              "1                     0.910232  \n",
              "2                     0.910232  \n",
              "3                     0.890169  \n",
              "4                     1.000000  "
            ]
          },
          "execution_count": 13,
          "metadata": {},
          "output_type": "execute_result"
        }
      ],
      "source": [
        "lab.get_issues().head()"
      ]
    },
    {
      "cell_type": "markdown",
      "metadata": {
        "id": "IcvnetgnplIc"
      },
      "source": [
        "Each example receives a separate *quality score* for each issue type (eg. `outlier_score` is the *quality score* for the `outlier` issue type, quantifying *how typical* each datapoint appears to be). LOWER scores indicate MORE severe instances of the issue, so the most-concerning datapoints have the lowest quality scores. Sort by these scores to see the most-concerning examples in your dataset for each type of issue. The quality scores are directly comparable between examples/datasets, but not across different issue types.\n",
        "\n",
        "Similar to above, we can pass the type of issue as a argument to `get_issues()` to get the information for one particular type of issue.\n",
        "As an example, let's see the examples identified as having the most severe *label* issues:"
      ]
    },
    {
      "cell_type": "code",
      "execution_count": null,
      "metadata": {
        "execution": {
          "iopub.execute_input": "2025-02-27T15:39:21.109658Z",
          "iopub.status.busy": "2025-02-27T15:39:21.109488Z",
          "iopub.status.idle": "2025-02-27T15:39:21.118623Z",
          "shell.execute_reply": "2025-02-27T15:39:21.118041Z"
        },
        "id": "9CEk2XCKplId",
        "outputId": "0592a60f-0604-4a45-d13f-d2aff94d632e"
      },
      "outputs": [
        {
          "data": {
            "text/html": [
              "<div>\n",
              "<style scoped>\n",
              "    .dataframe tbody tr th:only-of-type {\n",
              "        vertical-align: middle;\n",
              "    }\n",
              "\n",
              "    .dataframe tbody tr th {\n",
              "        vertical-align: top;\n",
              "    }\n",
              "\n",
              "    .dataframe thead th {\n",
              "        text-align: right;\n",
              "    }\n",
              "</style>\n",
              "<table border=\"1\" class=\"dataframe\">\n",
              "  <thead>\n",
              "    <tr style=\"text-align: right;\">\n",
              "      <th></th>\n",
              "      <th>is_label_issue</th>\n",
              "      <th>label_score</th>\n",
              "      <th>given_label</th>\n",
              "      <th>predicted_label</th>\n",
              "    </tr>\n",
              "  </thead>\n",
              "  <tbody>\n",
              "    <tr>\n",
              "      <th>7</th>\n",
              "      <td>True</td>\n",
              "      <td>0.008963</td>\n",
              "      <td>low</td>\n",
              "      <td>mid</td>\n",
              "    </tr>\n",
              "    <tr>\n",
              "      <th>120</th>\n",
              "      <td>True</td>\n",
              "      <td>0.009664</td>\n",
              "      <td>high</td>\n",
              "      <td>mid</td>\n",
              "    </tr>\n",
              "    <tr>\n",
              "      <th>40</th>\n",
              "      <td>True</td>\n",
              "      <td>0.013445</td>\n",
              "      <td>mid</td>\n",
              "      <td>low</td>\n",
              "    </tr>\n",
              "    <tr>\n",
              "      <th>107</th>\n",
              "      <td>True</td>\n",
              "      <td>0.025184</td>\n",
              "      <td>high</td>\n",
              "      <td>mid</td>\n",
              "    </tr>\n",
              "    <tr>\n",
              "      <th>53</th>\n",
              "      <td>True</td>\n",
              "      <td>0.026376</td>\n",
              "      <td>high</td>\n",
              "      <td>mid</td>\n",
              "    </tr>\n",
              "  </tbody>\n",
              "</table>\n",
              "</div>"
            ],
            "text/plain": [
              "     is_label_issue  label_score given_label predicted_label\n",
              "7              True     0.008963         low             mid\n",
              "120            True     0.009664        high             mid\n",
              "40             True     0.013445         mid             low\n",
              "107            True     0.025184        high             mid\n",
              "53             True     0.026376        high             mid"
            ]
          },
          "execution_count": 14,
          "metadata": {},
          "output_type": "execute_result"
        }
      ],
      "source": [
        "examples_w_issue = (\n",
        "    lab.get_issues(\"label\")\n",
        "    .query(\"is_label_issue\")\n",
        "    .sort_values(\"label_score\")\n",
        ")\n",
        "\n",
        "examples_w_issue.head()"
      ]
    },
    {
      "cell_type": "markdown",
      "metadata": {
        "id": "w-24oLtZplId"
      },
      "source": [
        "Inspecting the labels for some of these top-ranked examples, we find their given label was indeed incorrect."
      ]
    },
    {
      "cell_type": "markdown",
      "metadata": {
        "id": "Xf4osesjplId"
      },
      "source": [
        "#### Get additional information\n",
        "\n",
        "Miscellaneous additional information (statistics, intermediate results, etc) related to a particular issue type can be accessed via `get_info(issue_name)`."
      ]
    },
    {
      "cell_type": "code",
      "execution_count": null,
      "metadata": {
        "execution": {
          "iopub.execute_input": "2025-02-27T15:39:21.120413Z",
          "iopub.status.busy": "2025-02-27T15:39:21.120078Z",
          "iopub.status.idle": "2025-02-27T15:39:21.127001Z",
          "shell.execute_reply": "2025-02-27T15:39:21.126545Z"
        },
        "scrolled": true,
        "id": "vCwAEW_IplId",
        "outputId": "04ba8858-52d0-4e78-f332-d2eb18408ca4"
      },
      "outputs": [
        {
          "data": {
            "text/html": [
              "<div>\n",
              "<style scoped>\n",
              "    .dataframe tbody tr th:only-of-type {\n",
              "        vertical-align: middle;\n",
              "    }\n",
              "\n",
              "    .dataframe tbody tr th {\n",
              "        vertical-align: top;\n",
              "    }\n",
              "\n",
              "    .dataframe thead th {\n",
              "        text-align: right;\n",
              "    }\n",
              "</style>\n",
              "<table border=\"1\" class=\"dataframe\">\n",
              "  <thead>\n",
              "    <tr style=\"text-align: right;\">\n",
              "      <th></th>\n",
              "      <th>Class Name</th>\n",
              "      <th>Class Index</th>\n",
              "      <th>Label Issues</th>\n",
              "      <th>Inverse Label Issues</th>\n",
              "      <th>Label Noise</th>\n",
              "      <th>Inverse Label Noise</th>\n",
              "      <th>Label Quality Score</th>\n",
              "    </tr>\n",
              "  </thead>\n",
              "  <tbody>\n",
              "    <tr>\n",
              "      <th>0</th>\n",
              "      <td>low</td>\n",
              "      <td>1</td>\n",
              "      <td>12</td>\n",
              "      <td>2</td>\n",
              "      <td>0.428571</td>\n",
              "      <td>0.111111</td>\n",
              "      <td>0.571429</td>\n",
              "    </tr>\n",
              "    <tr>\n",
              "      <th>1</th>\n",
              "      <td>high</td>\n",
              "      <td>0</td>\n",
              "      <td>11</td>\n",
              "      <td>2</td>\n",
              "      <td>0.407407</td>\n",
              "      <td>0.111111</td>\n",
              "      <td>0.592593</td>\n",
              "    </tr>\n",
              "    <tr>\n",
              "      <th>2</th>\n",
              "      <td>mid</td>\n",
              "      <td>3</td>\n",
              "      <td>25</td>\n",
              "      <td>5</td>\n",
              "      <td>0.337838</td>\n",
              "      <td>0.092593</td>\n",
              "      <td>0.662162</td>\n",
              "    </tr>\n",
              "    <tr>\n",
              "      <th>3</th>\n",
              "      <td>max</td>\n",
              "      <td>2</td>\n",
              "      <td>1</td>\n",
              "      <td>40</td>\n",
              "      <td>0.333333</td>\n",
              "      <td>0.952381</td>\n",
              "      <td>0.666667</td>\n",
              "    </tr>\n",
              "  </tbody>\n",
              "</table>\n",
              "</div>"
            ],
            "text/plain": [
              "  Class Name  Class Index  Label Issues  Inverse Label Issues  Label Noise  \\\n",
              "0        low            1            12                     2     0.428571   \n",
              "1       high            0            11                     2     0.407407   \n",
              "2        mid            3            25                     5     0.337838   \n",
              "3        max            2             1                    40     0.333333   \n",
              "\n",
              "   Inverse Label Noise  Label Quality Score  \n",
              "0             0.111111             0.571429  \n",
              "1             0.111111             0.592593  \n",
              "2             0.092593             0.662162  \n",
              "3             0.952381             0.666667  "
            ]
          },
          "execution_count": 15,
          "metadata": {},
          "output_type": "execute_result"
        }
      ],
      "source": [
        "label_issues_info = lab.get_info(\"label\")\n",
        "label_issues_info[\"classes_by_label_quality\"]"
      ]
    },
    {
      "cell_type": "markdown",
      "metadata": {
        "id": "S1RIdMhRplIj"
      },
      "source": [
        "This portion of the info shows overall label quality summaries of all examples annotated as a particular class (e.g. the `Label Issues` column is the estimated number of examples labeled as this class that should actually have a different label).\n",
        "To learn more about this, see the documentation for the [cleanlab.dataset.rank_classes_by_label_quality](../../cleanlab/dataset.html#cleanlab.dataset.rank_classes_by_label_quality)\n",
        "method.\n",
        "\n",
        "You can view all sorts of information regarding your dataset using the `get_info()` method with no arguments passed. This is not printed here as it returns a huge dictionary but feel free to check it out yourself! Don't worry if you don't understand all of the miscellaneous information in this `info` dictionary, none of it is critical to diagnose the issues in your dataset. Understanding miscellaneous info may require reading the documentation of the miscellaneous cleanlab functions which computed it.\n",
        "\n",
        "#### Near duplicate issues\n",
        "\n",
        "Let's also inspect the examples flagged as (near) duplicates.\n",
        "For each such example, the `near_duplicate_sets` column below indicates *which* other examples in the dataset are highly similar to it (this value is empty for examples not flagged as nearly duplicated). The `near_duplicate_score` quantifies *how similar* each example is to its nearest neighbor in the dataset."
      ]
    },
    {
      "cell_type": "code",
      "execution_count": null,
      "metadata": {
        "execution": {
          "iopub.execute_input": "2025-02-27T15:39:21.128688Z",
          "iopub.status.busy": "2025-02-27T15:39:21.128354Z",
          "iopub.status.idle": "2025-02-27T15:39:21.137515Z",
          "shell.execute_reply": "2025-02-27T15:39:21.136923Z"
        },
        "id": "-GkXDat5plIj",
        "outputId": "e6285e3a-723d-41ce-b3f2-ff6fa752bcf3"
      },
      "outputs": [
        {
          "data": {
            "text/html": [
              "<div>\n",
              "<style scoped>\n",
              "    .dataframe tbody tr th:only-of-type {\n",
              "        vertical-align: middle;\n",
              "    }\n",
              "\n",
              "    .dataframe tbody tr th {\n",
              "        vertical-align: top;\n",
              "    }\n",
              "\n",
              "    .dataframe thead th {\n",
              "        text-align: right;\n",
              "    }\n",
              "</style>\n",
              "<table border=\"1\" class=\"dataframe\">\n",
              "  <thead>\n",
              "    <tr style=\"text-align: right;\">\n",
              "      <th></th>\n",
              "      <th>is_near_duplicate_issue</th>\n",
              "      <th>near_duplicate_score</th>\n",
              "      <th>near_duplicate_sets</th>\n",
              "      <th>distance_to_nearest_neighbor</th>\n",
              "    </tr>\n",
              "  </thead>\n",
              "  <tbody>\n",
              "    <tr>\n",
              "      <th>123</th>\n",
              "      <td>True</td>\n",
              "      <td>0.000000</td>\n",
              "      <td>[131]</td>\n",
              "      <td>0.000000e+00</td>\n",
              "    </tr>\n",
              "    <tr>\n",
              "      <th>131</th>\n",
              "      <td>True</td>\n",
              "      <td>0.000000</td>\n",
              "      <td>[123]</td>\n",
              "      <td>0.000000e+00</td>\n",
              "    </tr>\n",
              "    <tr>\n",
              "      <th>129</th>\n",
              "      <td>True</td>\n",
              "      <td>0.000002</td>\n",
              "      <td>[130]</td>\n",
              "      <td>4.463180e-07</td>\n",
              "    </tr>\n",
              "    <tr>\n",
              "      <th>130</th>\n",
              "      <td>True</td>\n",
              "      <td>0.000002</td>\n",
              "      <td>[129]</td>\n",
              "      <td>4.463180e-07</td>\n",
              "    </tr>\n",
              "  </tbody>\n",
              "</table>\n",
              "</div>"
            ],
            "text/plain": [
              "     is_near_duplicate_issue  near_duplicate_score near_duplicate_sets  \\\n",
              "123                     True              0.000000               [131]   \n",
              "131                     True              0.000000               [123]   \n",
              "129                     True              0.000002               [130]   \n",
              "130                     True              0.000002               [129]   \n",
              "\n",
              "     distance_to_nearest_neighbor  \n",
              "123                  0.000000e+00  \n",
              "131                  0.000000e+00  \n",
              "129                  4.463180e-07  \n",
              "130                  4.463180e-07  "
            ]
          },
          "execution_count": 16,
          "metadata": {},
          "output_type": "execute_result"
        }
      ],
      "source": [
        "lab.get_issues(\"near_duplicate\").query(\"is_near_duplicate_issue\").sort_values(\"near_duplicate_score\")"
      ]
    },
    {
      "cell_type": "markdown",
      "metadata": {
        "id": "yYjdLNEdplIl"
      },
      "source": [
        "Learn more about handling near duplicates detected in a dataset from [the FAQ](../faq.html#How-to-handle-near-duplicate-data-identified-by-cleanlab?).\n",
        "\n",
        "Other issues detected in this tutorial dataset include **outliers** and **class imbalance**, see the [Issue Type Descriptions](../../cleanlab/datalab/guide/issue_type_description.html) for more information. `Datalab` makes it very easy to check your datasets for all sorts of issues that are important to deal with for training robust models. The inputs it uses to detect issues can come from *any* model you have trained (the better your model, the more accurate the issue detection will be).\n",
        "\n",
        "To learn more, check out this [example notebook](https://github.com/cleanlab/examples/blob/master/datalab_image_classification/datalab.ipynb) (demonstrates Datalab applied to a real dataset) and the [advanced Datalab tutorial](datalab_advanced.html) (demonstrates configuration and customization options to exert greater control)."
      ]
    },
    {
      "cell_type": "code",
      "execution_count": null,
      "metadata": {
        "execution": {
          "iopub.execute_input": "2025-02-27T15:39:21.139376Z",
          "iopub.status.busy": "2025-02-27T15:39:21.139044Z",
          "iopub.status.idle": "2025-02-27T15:39:21.155047Z",
          "shell.execute_reply": "2025-02-27T15:39:21.154558Z"
        },
        "nbsphinx": "hidden",
        "id": "ivNgaO_cplIl"
      },
      "outputs": [],
      "source": [
        "# Note: This cell is only for docs.cleanlab.ai, if running on local Jupyter or Colab, please ignore it.\n",
        "from sklearn.metrics import roc_auc_score\n",
        "\n",
        "def precision_at_k(predicted_indices, true_indices, k):\n",
        "    return len(set(predicted_indices[:k]).intersection(set(true_indices))) / k\n",
        "\n",
        "def recall_at_k(predicted_indices, true_indices, k):\n",
        "    return len(set(predicted_indices[:k]).intersection(set(true_indices))) / len(true_indices)\n",
        "\n",
        "def jaccard_similarity(l1, l2):\n",
        "    s1 = set(l1)\n",
        "    s2 = set(l2)\n",
        "    intersect_set = s1.intersection(s2)\n",
        "    union_set = s1.union(s2)\n",
        "    if len(intersect_set) == 0:\n",
        "        return 0\n",
        "    return len(intersect_set) / len(union_set)\n",
        "\n",
        "label_issues = lab.get_issues(\"label\")\n",
        "predicted_label_issues_indices = (\n",
        "    label_issues.query(\"is_label_issue\").sort_values(\"label_score\").index.to_list()\n",
        ")\n",
        "predicted_label_issues_indices_by_score = (\n",
        "    label_issues.sort_values(\"label_score\").index.to_list()\n",
        ")\n",
        "label_issue_indices = np.where(y_train_idx != noisy_labels_idx)[0]\n",
        "\n",
        "label_quality_scores = label_issues[\"label_score\"].tolist()\n",
        "Z = (y_train_idx == noisy_labels_idx).astype(float).tolist()\n",
        "\n",
        "predicted_outlier_issues_indices = (\n",
        "    lab.get_issues(\"outlier\").query(\"is_outlier_issue\").index.to_list()\n",
        ")\n",
        "outlier_issue_indices = list(range(125, 130+1))\n",
        "exact_duplicate_idx = [index for index, elem in enumerate(X_train) if (elem == X_duplicate).all()][0]\n",
        "if exact_duplicate_idx >= 125: # if the random index selected to create a duplicate >= 125, then the last point is also an outlier\n",
        "    outlier_issue_indices.append(131)\n",
        "\n",
        "predicted_duplicate_issues_indices = (\n",
        "    lab.get_issues(\"near_duplicate\").query(\"is_near_duplicate_issue\").index.tolist()\n",
        ")\n",
        "duplicate_issue_indices = [exact_duplicate_idx, 129, 130, 131]\n",
        "\n",
        "k = len(label_issue_indices)\n",
        "assert precision_at_k(predicted_label_issues_indices, label_issue_indices, k) >= 0.75\n",
        "assert recall_at_k(predicted_label_issues_indices, label_issue_indices, k) >= 0.75\n",
        "assert precision_at_k(predicted_label_issues_indices_by_score, label_issue_indices, k) == 1.0\n",
        "assert recall_at_k(predicted_label_issues_indices_by_score, label_issue_indices, k) == 1.0\n",
        "assert roc_auc_score(Z, label_quality_scores) > 0.9\n",
        "\n",
        "assert jaccard_similarity(predicted_outlier_issues_indices, outlier_issue_indices) > 0.9\n",
        "assert jaccard_similarity(predicted_duplicate_issues_indices, duplicate_issue_indices) > 0.9\n",
        "\n",
        "expected_issue_types = set([\"label\", \"outlier\", \"near_duplicate\", \"class_imbalance\"])\n",
        "detected_issue_types = set(lab.get_issue_summary()[lab.get_issue_summary()[\"num_issues\"] > 0][\"issue_type\"])\n",
        "assert detected_issue_types == expected_issue_types"
      ]
    },
    {
      "cell_type": "markdown",
      "metadata": {
        "id": "hhUhBCtwplIm"
      },
      "source": [
        "## Spending too much time on data quality?\n",
        "\n",
        "Using this open-source package effectively can require significant ML expertise and experimentation, plus handling detected data issues can be cumbersome.\n",
        "\n",
        "That’s why we built [Cleanlab Studio](https://cleanlab.ai/blog/data-centric-ai/) -- an automated platform to find **and fix** issues in your dataset, 100x faster and more accurately.  Cleanlab Studio automatically runs optimized data quality algorithms from this package on top of cutting-edge AutoML & Foundation models fit to your data, and helps you fix detected issues via a smart data correction interface. [Try it](https://cleanlab.ai/) for free!\n",
        "\n",
        "<p align=\"center\">\n",
        "  <img src=\"https://raw.githubusercontent.com/cleanlab/assets/master/cleanlab/ml-with-cleanlab-studio.png\" alt=\"The modern AI pipeline automated with Cleanlab Studio\">\n",
        "</p>"
      ]
    }
  ],
  "metadata": {
    "kernelspec": {
      "display_name": "Python 3 (ipykernel)",
      "language": "python",
      "name": "python3"
    },
    "language_info": {
      "codemirror_mode": {
        "name": "ipython",
        "version": 3
      },
      "file_extension": ".py",
      "mimetype": "text/x-python",
      "name": "python",
      "nbconvert_exporter": "python",
      "pygments_lexer": "ipython3",
      "version": "3.11.11"
    },
    "vscode": {
      "interpreter": {
        "hash": "d4d1e4263499bec80672ea0156c357c1ee493ec2b1c70f0acce89fc37c4a6abe"
      }
    },
    "colab": {
      "provenance": []
    }
  },
  "nbformat": 4,
  "nbformat_minor": 0
}